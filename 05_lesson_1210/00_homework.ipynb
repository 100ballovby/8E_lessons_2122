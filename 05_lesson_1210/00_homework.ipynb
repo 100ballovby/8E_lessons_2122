{
 "cells": [
  {
   "cell_type": "markdown",
   "metadata": {
    "collapsed": true
   },
   "source": [
    "# Домашняя работа на 12.10.2021\n",
    "\n",
    "<p><b>Задание 1.</b> Напишите программу, которая считывает длины двух катетов в прямоугольном треугольнике и выводит его площадь.</p>\n",
    "\n",
    "<img src=\"https://infofaq.ru/wp-content/uploads/2016/10/prjamougol.jpg\">\n",
    "\n",
    "<p>Из картинки мы видим, что нам нужно задать 2 переменные, которые будут отвечать за длины сторон прямоугольного треугольника.</p>"
   ]
  },
  {
   "cell_type": "code",
   "execution_count": 1,
   "metadata": {},
   "outputs": [
    {
     "name": "stdout",
     "output_type": "stream",
     "text": [
      "Введите 1 сторону: 5\n",
      "Введите 2 сторону: 12\n"
     ]
    }
   ],
   "source": [
    "a = int(input('Введите 1 сторону: '))\n",
    "b = int(input('Введите 2 сторону: '))"
   ]
  },
  {
   "cell_type": "markdown",
   "metadata": {},
   "source": [
    "<p>Я обернул функции <code>input()</code> в функцию <code>int()</code>, чтобы ввод пользователя автоматически преобразовывался в число. Потому что числа можно считать, а строчки нет. Напомминаю, что <code>input()</code> всегда возаращает строку.</p>\n",
    "\n",
    "<p>Чтобы решить задачу, мне нужно просто высчитать площадь по формуле и вывести ее на экран: </p>"
   ]
  },
  {
   "cell_type": "code",
   "execution_count": 7,
   "metadata": {},
   "outputs": [
    {
     "name": "stdout",
     "output_type": "stream",
     "text": [
      "S = 30.0 (см^2)\n"
     ]
    }
   ],
   "source": [
    "print(f'S = {(a * b) / 2} (см^2)')"
   ]
  },
  {
   "cell_type": "markdown",
   "metadata": {},
   "source": [
    "<p>Буква <code>f</code> перед строкой и <code>{}</code> внутри строки означают, что вы сделали форматируемую строчку. То есть теперь вы можете вставить значение переменной прямо в текст через <code>{}</code>.</p>\n",
    "\n",
    "<hr>\n",
    "\n",
    "<p><b>Задание 2.</b> Напишите программу, которая получает число и выводит следующее и предыдущее для этого числа. Например: вы вводите <b>4</b>, программа должна написать: <b>3</b> и <b>5</b>.</p>\n",
    "\n",
    "<p>Для решения задачи мне также понадобится переменная, которая будет хранить число, введенное пользователем:</p>"
   ]
  },
  {
   "cell_type": "code",
   "execution_count": 8,
   "metadata": {},
   "outputs": [
    {
     "name": "stdout",
     "output_type": "stream",
     "text": [
      "Введите число: 15\n"
     ]
    }
   ],
   "source": [
    "n = int(input('Введите число: '))"
   ]
  },
  {
   "cell_type": "markdown",
   "metadata": {},
   "source": [
    "<p>чтобы найти следующее и предыдущее, мне нужно прибавить и отнять от числа 1.</p>"
   ]
  },
  {
   "cell_type": "code",
   "execution_count": 9,
   "metadata": {},
   "outputs": [
    {
     "name": "stdout",
     "output_type": "stream",
     "text": [
      "Следующее: 16, предыдущее: 14.\n"
     ]
    }
   ],
   "source": [
    "print(f'Следующее: {n + 1}, предыдущее: {n - 1}.')"
   ]
  }
 ],
 "metadata": {
  "kernelspec": {
   "display_name": "Python 3 (ipykernel)",
   "language": "python",
   "name": "python3"
  },
  "language_info": {
   "codemirror_mode": {
    "name": "ipython",
    "version": 3
   },
   "file_extension": ".py",
   "mimetype": "text/x-python",
   "name": "python",
   "nbconvert_exporter": "python",
   "pygments_lexer": "ipython3",
   "version": "3.7.7"
  }
 },
 "nbformat": 4,
 "nbformat_minor": 1
}