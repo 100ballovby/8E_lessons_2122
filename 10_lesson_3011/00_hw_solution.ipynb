{
 "cells": [
  {
   "cell_type": "markdown",
   "metadata": {
    "collapsed": true
   },
   "source": [
    "## ДЗ\n",
    "\n",
    "<p>Напишите программу, которая находит наибольший и наменьший элемент списка</p>"
   ]
  },
  {
   "cell_type": "code",
   "execution_count": 1,
   "metadata": {},
   "outputs": [
    {
     "name": "stdout",
     "output_type": "stream",
     "text": [
      "[92, 13, 26, 16, 12, -44, -44, 41, 37, -22, 6, -99, 47, 40, -57, 72, -46, 68, 32, 31, -35, 70, -71, 27, 73, 35, -6, -67, -69, 33, 84, -28, 100, -55, 36, -93, 83, 23, 59, 36, -7, 93, -41, 65, 11, 84, -98, 88, 86, -2]\n"
     ]
    }
   ],
   "source": [
    "import random as r \n",
    "\n",
    "numbers = []\n",
    "\n",
    "for i in range(50):\n",
    "    num = r.randint(-100, 100)\n",
    "    numbers.append(num)\n",
    "    \n",
    "print(numbers)"
   ]
  },
  {
   "cell_type": "markdown",
   "metadata": {},
   "source": [
    "## Вариант 1. Почти самый лентяйский.\n",
    "\n",
    "<p>Суть решения заключается в том, чтобы отсортировать массив чисел по возрастанию и вывести первый и последний элементы.</p>"
   ]
  },
  {
   "cell_type": "code",
   "execution_count": 2,
   "metadata": {},
   "outputs": [
    {
     "name": "stdout",
     "output_type": "stream",
     "text": [
      "Минимальный: -99\n",
      "Максимальный: 100\n"
     ]
    }
   ],
   "source": [
    "var_1 = numbers\n",
    "var_1.sort()\n",
    "\n",
    "print(f'Минимальный: {var_1[0]}')\n",
    "print(f'Максимальный: {var_1[-1]}')"
   ]
  },
  {
   "cell_type": "markdown",
   "metadata": {},
   "source": [
    "## Вариант 2. Самый лентяйский\n",
    "\n",
    "<p>Суть решения заключается в использовании функций <code>min()</code> и <code>max()</code>.</p>"
   ]
  },
  {
   "cell_type": "code",
   "execution_count": 3,
   "metadata": {},
   "outputs": [
    {
     "name": "stdout",
     "output_type": "stream",
     "text": [
      "Максимальное: 100\n",
      "Минимальное: -99\n"
     ]
    }
   ],
   "source": [
    "var_2 = numbers\n",
    "\n",
    "print(f'Максимальное: {max(var_2)}')\n",
    "print(f'Минимальное: {min(var_2)}')"
   ]
  },
  {
   "cell_type": "markdown",
   "metadata": {},
   "source": [
    "## Вариант 3. Линейный поиск.\n",
    "\n",
    "<p>Суть решения заключается в испоользовании алгоритма линейного поиска (далее АЛП).</p>\n",
    "\n",
    "<p><b>АЛП</b> - просмотреть каждый элемент массива и сравнить с искомым значением. Если значения совпали, поиск останавливается.</p>"
   ]
  },
  {
   "cell_type": "code",
   "execution_count": 5,
   "metadata": {},
   "outputs": [
    {
     "name": "stdout",
     "output_type": "stream",
     "text": [
      "Максимальное: 100\n",
      "Минимальное: -99\n"
     ]
    }
   ],
   "source": [
    "var_3 = numbers\n",
    "\n",
    "maximum = var_3[-1]\n",
    "minimum = var_3[0]\n",
    "\n",
    "for index in range(len(var_3)):\n",
    "    if var_3[index] > maximum:\n",
    "        maximum = var_3[index]\n",
    "    elif var_3[index] < minimum:\n",
    "        minimum = var_3[index]\n",
    "        \n",
    "print(f'Максимальное: {maximum}')\n",
    "print(f'Минимальное: {minimum}')\n"
   ]
  }
 ],
 "metadata": {
  "kernelspec": {
   "display_name": "Python 3 (ipykernel)",
   "language": "python",
   "name": "python3"
  },
  "language_info": {
   "codemirror_mode": {
    "name": "ipython",
    "version": 3
   },
   "file_extension": ".py",
   "mimetype": "text/x-python",
   "name": "python",
   "nbconvert_exporter": "python",
   "pygments_lexer": "ipython3",
   "version": "3.7.7"
  }
 },
 "nbformat": 4,
 "nbformat_minor": 1
}