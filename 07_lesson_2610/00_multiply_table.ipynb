{
 "cells": [
  {
   "cell_type": "markdown",
   "metadata": {
    "collapsed": true,
    "pycharm": {
     "is_executing": true
    }
   },
   "source": [
    "## Задача \"таблица умножения\"\n",
    "\n",
    "<p>Вывести таблицу умножения для числа <code>n</code> в формате: <code>n * i = z</code></p>\n",
    "\n",
    "<pre><code>\n",
    "n = 5\n",
    "5 * 1 = 5\n",
    "...\n",
    "5 * 10 = 50\n",
    "</code></pre>\n",
    "\n"
   ]
  },
  {
   "cell_type": "code",
   "execution_count": 7,
   "metadata": {},
   "outputs": [
    {
     "name": "stdout",
     "output_type": "stream",
     "text": [
      "Введи число: 3\n",
      "3 * 1 = 3;\n",
      "3 * 2 = 6;\n",
      "3 * 3 = 9;\n",
      "3 * 4 = 12;\n",
      "3 * 5 = 15;\n",
      "3 * 6 = 18;\n",
      "3 * 7 = 21;\n",
      "3 * 8 = 24;\n",
      "3 * 9 = 27;\n",
      "3 * 10 = 30;\n"
     ]
    }
   ],
   "source": [
    "n = int(input('Введи число: '))\n",
    "\n",
    "for number in range(1, 11):\n",
    "    print(f'{n} * {number} = {n * number};')"
   ]
  },
  {
   "cell_type": "markdown",
   "metadata": {},
   "source": [
    "<p>чтобы переписать эту задачу циклом <code>while</code>, мне надо вспомнить, что циклы <code>for</code> и <code>while</code> отличаются друг от друга только наличием/отсутствием в них переменной цикла (<code>i</code>).</p>\n",
    "\n",
    "<p>Циклу <code>while</code> необходимо инициализировать переменную <code>i</code> и увеличивать ее на 1 в теле цикла.</p>"
   ]
  },
  {
   "cell_type": "code",
   "execution_count": 9,
   "metadata": {},
   "outputs": [
    {
     "name": "stdout",
     "output_type": "stream",
     "text": [
      "Введи число: 3\n",
      "3 * 1 = 3;\n",
      "3 * 2 = 6;\n",
      "3 * 3 = 9;\n",
      "3 * 4 = 12;\n",
      "3 * 5 = 15;\n",
      "3 * 6 = 18;\n",
      "3 * 7 = 21;\n",
      "3 * 8 = 24;\n",
      "3 * 9 = 27;\n",
      "3 * 10 = 30;\n"
     ]
    }
   ],
   "source": [
    "n = int(input('Введи число: '))\n",
    "i = 1\n",
    "\n",
    "# for number in range(1, 11):\n",
    "while i < 11:\n",
    "    print(f'{n} * {i} = {n * i};')\n",
    "    i += 1"
   ]
  },
  {
   "cell_type": "code",
   "execution_count": null,
   "metadata": {},
   "outputs": [],
   "source": []
  }
 ],
 "metadata": {
  "kernelspec": {
   "display_name": "Python 3 (ipykernel)",
   "language": "python",
   "name": "python3"
  },
  "language_info": {
   "codemirror_mode": {
    "name": "ipython",
    "version": 3
   },
   "file_extension": ".py",
   "mimetype": "text/x-python",
   "name": "python",
   "nbconvert_exporter": "python",
   "pygments_lexer": "ipython3",
   "version": "3.7.7"
  }
 },
 "nbformat": 4,
 "nbformat_minor": 1
}