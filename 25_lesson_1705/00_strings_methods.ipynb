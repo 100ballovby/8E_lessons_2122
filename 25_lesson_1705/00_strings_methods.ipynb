{
 "cells": [
  {
   "cell_type": "code",
   "execution_count": null,
   "outputs": [],
   "source": [
    "# Методы строк\n",
    "\n",
    "### Функция <code>len()</code> - измерение длины строки \n",
    "\n",
    "<p>Функции передается строка и она возвращает число, равное количеству символов в этой строчке.</p>"
   ],
   "metadata": {
    "collapsed": false,
    "pycharm": {
     "name": "#%%\n"
    }
   }
  },
  {
   "cell_type": "code",
   "execution_count": null,
   "metadata": {
    "pycharm": {
     "name": "#%%\n"
    }
   },
   "outputs": [],
   "source": [
    "print(len('абракадабра'))"
   ]
  },
  {
   "cell_type": "markdown",
   "source": [
    "### Методы изменения строки\n",
    "\n",
    "<p>Существует группа методов, способная изменять внешний вид строки. Для применения этих методов нужно написать их через точку после обращения к переменной, хранящей строку - <code>a.method()</code>.</p>\n",
    "\n",
    "<ol>\n",
    "    <li><code>.title()</code> - приводит все буквы в строке в нижний регистр, а каждое новое слово пишется с большой буквы;</li>\n",
    "    <li><code>.upper()</code> - приводит все буквы в строке в верхний регистр (как CapsLock);</li>\n",
    "    <li><code>.lower()</code> - приводит все буквы в строке в нижний регистр;</li>\n",
    "    <li><code>.capitalize()</code> - переводит первый символ строки в верхний регистр, а все остальные в нижний.</li>\n",
    "</ol>"
   ],
   "metadata": {
    "collapsed": false,
    "pycharm": {
     "name": "#%% md\n"
    }
   }
  },
  {
   "cell_type": "code",
   "execution_count": null,
   "outputs": [],
   "source": [
    "phrase1 = 'HeLlO, wOrLd'\n",
    "\n",
    "print(f'title.(): {phrase1.title()}')\n",
    "print(f'upper.(): {phrase1.upper()}')\n",
    "print(f'lower.(): {phrase1.lower()}')\n",
    "print(f'capitalize.(): {phrase1.capitalize()}')"
   ],
   "metadata": {
    "collapsed": false,
    "pycharm": {
     "name": "#%%\n"
    }
   }
  },
  {
   "cell_type": "markdown",
   "source": [
    "### Методы проверки символов в строке\n",
    "\n",
    "<p>Существует группа методов, позволяющая проверить символ в строке на наличие каких-либо символов или на соответствие какому-то условию. Методы проверки симвлов:</p>\n",
    "\n",
    "<ol>\n",
    "    <li><code>.isupper()</code> - проверяет, является ли символ большой буквой;</li>\n",
    "    <li><code>.islower()</code> - проверяет, является ли символ маленькой буквой;;</li>\n",
    "    <li><code>.isdigit()</code> - проверяет, является ли символ цифрой;</li>\n",
    "    <li><code>.isprintable()</code> - проверяет, является ли символ знаком препинания или пробелом.</li>\n",
    "</ol>"
   ],
   "metadata": {
    "collapsed": false,
    "pycharm": {
     "name": "#%% md\n"
    }
   }
  },
  {
   "cell_type": "code",
   "execution_count": null,
   "outputs": [],
   "source": [
    "print(f'A.isupper(): {\"A\".isupper()}')\n",
    "print(f'a.islower(): {\"a\".islower()}')\n",
    "print(f'5.isdigit(): {\"5\".isdigit()}')\n",
    "print(f'!.isprintable(): {\"!\".isprintable()}')"
   ],
   "metadata": {
    "collapsed": false,
    "pycharm": {
     "name": "#%%\n"
    }
   }
  },
  {
   "cell_type": "markdown",
   "source": [
    "### Задача 1.\n",
    "\n",
    "<p>Напишите программу, которая получает строчку и считает количество больших букв, маленьких букв и знаков препинания.</p>"
   ],
   "metadata": {
    "collapsed": false,
    "pycharm": {
     "name": "#%% md\n"
    }
   }
  },
  {
   "cell_type": "code",
   "execution_count": null,
   "outputs": [],
   "source": [
    "phrase = input('Введите строчку: ')\n",
    "big = 0\n",
    "small = 0 \n",
    "printable = 0\n",
    "\n",
    "\n",
    "for i in range(len(phrase)):\n",
    "    if phrase[i].isupper():\n",
    "        big += 1\n",
    "    elif phrase[i].islower():\n",
    "        small += 1\n",
    "    elif phrase[i].isprintable():\n",
    "        printable += 1\n",
    "        \n",
    "print(f'Больших букв: {big}')\n",
    "print(f'Маленьких букв: {small}')\n",
    "print(f'Знаков препиания: {printable}')"
   ],
   "metadata": {
    "collapsed": false,
    "pycharm": {
     "name": "#%%\n"
    }
   }
  },
  {
   "cell_type": "markdown",
   "source": [
    "<p>Есть методы, которые провряют, начинается ли строчка с определенного символа или последовательности символов или наоборот - заканчивается ли строка определенным символом или последовательностью символов.</p>\n",
    "\n",
    "<ul>\n",
    "    <li><code>.startswith(<b>seq</b>)</code> - проверяет, начинается ли строчка с символа <code>seq</code></li>\n",
    "    <li><code>.endswith(<b>seq</b>)</code> - проверяет, заканчивается ли строчка символом <code>seq</code></li>\n",
    "</ul>"
   ],
   "metadata": {
    "collapsed": false,
    "pycharm": {
     "name": "#%% md\n"
    }
   }
  },
  {
   "cell_type": "code",
   "execution_count": null,
   "outputs": [],
   "source": [
    "greeting = 'Hello! My name is Harry!'\n",
    "\n",
    "if greeting.startswith('Hello'):\n",
    "    print('Hello!')\n",
    "else:\n",
    "    print('Where is your \"hello\"?')"
   ],
   "metadata": {
    "collapsed": false,
    "pycharm": {
     "name": "#%%\n"
    }
   }
  },
  {
   "cell_type": "markdown",
   "source": [
    "<p>Метода, который проверяет, содержит ли строка какие-то значения, не существует. Но зато есть оператор, которые позволяет это проверить - <code>in</code>.</p>"
   ],
   "metadata": {
    "collapsed": false,
    "pycharm": {
     "name": "#%% md\n"
    }
   }
  },
  {
   "cell_type": "code",
   "execution_count": null,
   "outputs": [],
   "source": [
    "print('My' in greeting)"
   ],
   "metadata": {
    "collapsed": false,
    "pycharm": {
     "name": "#%%\n"
    }
   }
  },
  {
   "cell_type": "markdown",
   "source": [
    "### Методы разделения строки на элементы \n",
    "\n",
    "<p><code>.split(<b>разделитель</b>)</code> - разбирает строчку на элементы по указанному разделителю и возваращет список, состоящий из элементов строки. Если не указывать разделитель, по умолчанию, метод разобьет строчку по пробелам.</p>"
   ],
   "metadata": {
    "collapsed": false,
    "pycharm": {
     "name": "#%% md\n"
    }
   }
  },
  {
   "cell_type": "code",
   "execution_count": null,
   "outputs": [],
   "source": [
    "phrase2 = 'Привет, Андрей! Зачем ты плюнул в голубей?'\n",
    "\n",
    "print(phrase2.split())"
   ],
   "metadata": {
    "collapsed": false,
    "pycharm": {
     "name": "#%%\n"
    }
   }
  },
  {
   "cell_type": "code",
   "execution_count": null,
   "outputs": [],
   "source": [
    "cars = 'Audi,Mercedes,BMW,Honda,Aston Martin,BelAZ'\n",
    "\n",
    "print(cars.split(','))"
   ],
   "metadata": {
    "collapsed": false,
    "pycharm": {
     "name": "#%%\n"
    }
   }
  },
  {
   "cell_type": "markdown",
   "source": [
    "### Замена символов в строке \n",
    "\n",
    "<p>Вы не можете менять символы в строке через индексы. Но есть возможность заменить символ или последовательность символов, используя метод <code>.replace(<b>что_менять</b>, <b>на_что_менять</b>)</code>.</p>"
   ],
   "metadata": {
    "collapsed": false,
    "pycharm": {
     "name": "#%% md\n"
    }
   }
  },
  {
   "cell_type": "code",
   "execution_count": null,
   "outputs": [],
   "source": [
    "phrase4 = 'Мама мыла раму. Где мама?'\n",
    "\n",
    "print(phrase4.replace('а', '@'))"
   ],
   "metadata": {
    "collapsed": false,
    "pycharm": {
     "name": "#%%\n"
    }
   }
  },
  {
   "cell_type": "code",
   "execution_count": null,
   "outputs": [],
   "source": [
    "phrase5 = 'I love C++'\n",
    "\n",
    "print(phrase5.replace('C++', 'Python'))"
   ],
   "metadata": {
    "collapsed": false,
    "pycharm": {
     "name": "#%%\n"
    }
   }
  },
  {
   "cell_type": "markdown",
   "source": [
    "### Сравнение строк\n",
    "\n",
    "<p>Строки можно сравнивать между собой, используя стандартные операторы сравнения: <code>&gt;</code>, <code>&lt;</code>, <code>==</code>, <code>!=</code>, <code>&lt;=</code>, <code>&gt;=</code>.</p>\n",
    "\n",
    "<p>Строки сравниваются не совсем так, как сравниваются числа.</p>"
   ],
   "metadata": {
    "collapsed": false,
    "pycharm": {
     "name": "#%% md\n"
    }
   }
  },
  {
   "cell_type": "code",
   "execution_count": null,
   "outputs": [],
   "source": [
    "a = 'elephant'\n",
    "b = 'mouse'\n",
    "\n",
    "print(a > b)"
   ],
   "metadata": {
    "collapsed": false,
    "pycharm": {
     "name": "#%%\n"
    }
   }
  },
  {
   "cell_type": "markdown",
   "source": [
    "<p>При сравнении строк во внимание берется <b>только</b> порядковый номер буквы в алфавите. Строки сравниваются посимвольно, пока не будет найдено различие между символами. В нашем случае различие появляется уже на первом символе. Так как порядковый номер буквы <code>e</code> в алфавите меньше, чем порядковый номер буквы <code>m</code>. Операция сравнения говорит о том, что слон меньше мыши.</p>"
   ],
   "metadata": {
    "collapsed": false,
    "pycharm": {
     "name": "#%% md\n"
    }
   }
  },
  {
   "cell_type": "code",
   "execution_count": null,
   "outputs": [],
   "source": [
    "a = 'elephant'\n",
    "b = 'elephand'\n",
    "\n",
    "print(a > b)"
   ],
   "metadata": {
    "collapsed": false,
    "pycharm": {
     "name": "#%%\n"
    }
   }
  },
  {
   "cell_type": "markdown",
   "source": [
    "<p>Чтобы определять \"порядковые номера\" букв используются числовые коды <a href=\"https://istarik.ru/blog/programmirovanie/53.html\">таблицы ASCII</a>. Это специальная таблица всех клавиатурных символов. Компьютер не способен распознавать буквы в том варианте, в котором их видите вы. Он видит буквы как числовые коды. Чтобы увидеть числовой код буквы, нужно использовать функцию <code>ord(<b>символ</b>)</code>.</p>"
   ],
   "metadata": {
    "collapsed": false,
    "pycharm": {
     "name": "#%% md\n"
    }
   }
  },
  {
   "cell_type": "code",
   "execution_count": null,
   "outputs": [],
   "source": [
    "print(ord('t'))\n",
    "print(ord('d'))"
   ],
   "metadata": {
    "collapsed": false,
    "pycharm": {
     "name": "#%%\n"
    }
   }
  },
  {
   "cell_type": "markdown",
   "source": [
    "<p>Для обратного преобразования кода в символ, нужно использовать функцию <code>chr(<b>код</b>)</code>.</p>"
   ],
   "metadata": {
    "collapsed": false,
    "pycharm": {
     "name": "#%% md\n"
    }
   }
  },
  {
   "cell_type": "code",
   "execution_count": null,
   "outputs": [],
   "source": [
    "print(chr(116))\n",
    "print(chr(100))"
   ],
   "metadata": {
    "collapsed": false,
    "pycharm": {
     "name": "#%%\n"
    }
   }
  },
  {
   "cell_type": "markdown",
   "source": [
    "### Циклы и строки:\n",
    "\n",
    "<p>Строка является последовательностью. У каждого символа в строке есть индекс (порядковый номер), который можно использовать для обращения. Строки могут быть перебраны через цикл:</p>"
   ],
   "metadata": {
    "collapsed": false,
    "pycharm": {
     "name": "#%% md\n"
    }
   }
  },
  {
   "cell_type": "code",
   "execution_count": null,
   "outputs": [],
   "source": [
    "phrase5 = 'Hello, World!'\n",
    "\n",
    "for i in range(len(phrase5)):  # количество повторений цикла равно длине строки \n",
    "    print(phrase5[i])  # в i находятся индексы, я достаю каждый символ через индекс"
   ],
   "metadata": {
    "collapsed": false,
    "pycharm": {
     "name": "#%%\n"
    }
   }
  },
  {
   "cell_type": "markdown",
   "source": [
    "### Задача 2. \n",
    "\n",
    "<p>Необходимо написать программу, которая отфильтрует из строки цифры и выведет их единой коллекцией, а также посчитает количество цифр и выведет его.</p>"
   ],
   "metadata": {
    "collapsed": false,
    "pycharm": {
     "name": "#%% md\n"
    }
   }
  },
  {
   "cell_type": "code",
   "execution_count": 3,
   "metadata": {
    "pycharm": {
     "name": "#%%\n"
    }
   },
   "outputs": [
    {
     "name": "stdout",
     "output_type": "stream",
     "text": [
      "title.(): Hello, World\n",
      "upper.(): HELLO, WORLD\n",
      "lower.(): hello, world\n",
      "capitalize.(): Hello, world\n"
     ]
    }
   ],
   "source": [
    "phrase1 = 'HeLlO, wOrLd'\n",
    "\n",
    "print(f'title.(): {phrase1.title()}')\n",
    "print(f'upper.(): {phrase1.upper()}')\n",
    "print(f'lower.(): {phrase1.lower()}')\n",
    "print(f'capitalize.(): {phrase1.capitalize()}')"
   ]
  },
  {
   "cell_type": "markdown",
   "metadata": {
    "pycharm": {
     "name": "#%% md\n"
    }
   },
   "source": [
    "### Методы проверки символов в строке\n",
    "\n",
    "<p>Существует группа методов, позволяющая проверить символ в строке на наличие каких-либо символов или на соответствие какому-то условию. Методы проверки симвлов:</p>\n",
    "\n",
    "<ol>\n",
    "    <li><code>.isupper()</code> - проверяет, является ли символ большой буквой;</li>\n",
    "    <li><code>.islower()</code> - проверяет, является ли символ маленькой буквой;;</li>\n",
    "    <li><code>.isdigit()</code> - проверяет, является ли символ цифрой;</li>\n",
    "    <li><code>.isprintable()</code> - проверяет, является ли символ знаком препинания или пробелом.</li>\n",
    "</ol>"
   ]
  },
  {
   "cell_type": "code",
   "execution_count": 4,
   "metadata": {
    "pycharm": {
     "name": "#%%\n"
    }
   },
   "outputs": [
    {
     "name": "stdout",
     "output_type": "stream",
     "text": [
      "A.isupper(): True\n",
      "a.islower(): True\n",
      "5.isdigit(): True\n",
      "!.isprintable(): True\n"
     ]
    }
   ],
   "source": [
    "print(f'A.isupper(): {\"A\".isupper()}')\n",
    "print(f'a.islower(): {\"a\".islower()}')\n",
    "print(f'5.isdigit(): {\"5\".isdigit()}')\n",
    "print(f'!.isprintable(): {\"!\".isprintable()}')"
   ]
  },
  {
   "cell_type": "markdown",
   "metadata": {
    "pycharm": {
     "name": "#%% md\n"
    }
   },
   "source": [
    "### Задача 1.\n",
    "\n",
    "<p>Напишите программу, которая получает строчку и считает количество больших букв, маленьких букв и знаков препинания.</p>"
   ]
  },
  {
   "cell_type": "code",
   "execution_count": 5,
   "metadata": {
    "pycharm": {
     "name": "#%%\n"
    }
   },
   "outputs": [
    {
     "name": "stdout",
     "output_type": "stream",
     "text": [
      "Введите строчку: Привет! Как твои дела, бро?\n",
      "Больших букв: 2\n",
      "Маленьких букв: 18\n",
      "Знаков препиания: 7\n"
     ]
    }
   ],
   "source": [
    "phrase = input('Введите строчку: ')\n",
    "big = 0\n",
    "small = 0 \n",
    "printable = 0\n",
    "\n",
    "\n",
    "for i in range(len(phrase)):\n",
    "    if phrase[i].isupper():\n",
    "        big += 1\n",
    "    elif phrase[i].islower():\n",
    "        small += 1\n",
    "    elif phrase[i].isprintable():\n",
    "        printable += 1\n",
    "        \n",
    "print(f'Больших букв: {big}')\n",
    "print(f'Маленьких букв: {small}')\n",
    "print(f'Знаков препиания: {printable}')"
   ]
  },
  {
   "cell_type": "markdown",
   "metadata": {
    "pycharm": {
     "name": "#%% md\n"
    }
   },
   "source": [
    "<p>Есть методы, которые провряют, начинается ли строчка с определенного символа или последовательности символов или наоборот - заканчивается ли строка определенным символом или последовательностью символов.</p>\n",
    "\n",
    "<ul>\n",
    "    <li><code>.startswith(<b>seq</b>)</code> - проверяет, начинается ли строчка с символа <code>seq</code></li>\n",
    "    <li><code>.endswith(<b>seq</b>)</code> - проверяет, заканчивается ли строчка символом <code>seq</code></li>\n",
    "</ul>"
   ]
  },
  {
   "cell_type": "code",
   "execution_count": 6,
   "metadata": {
    "pycharm": {
     "name": "#%%\n"
    }
   },
   "outputs": [
    {
     "name": "stdout",
     "output_type": "stream",
     "text": [
      "Hello!\n"
     ]
    }
   ],
   "source": [
    "greeting = 'Hello! My name is Harry!'\n",
    "\n",
    "if greeting.startswith('Hello'):\n",
    "    print('Hello!')\n",
    "else:\n",
    "    print('Where is your \"hello\"?')"
   ]
  },
  {
   "cell_type": "markdown",
   "metadata": {
    "pycharm": {
     "name": "#%% md\n"
    }
   },
   "source": [
    "<p>Метода, который проверяет, содержит ли строка какие-то значения, не существует. Но зато есть оператор, которые позволяет это проверить - <code>in</code>.</p>"
   ]
  },
  {
   "cell_type": "code",
   "execution_count": 7,
   "metadata": {
    "pycharm": {
     "name": "#%%\n"
    }
   },
   "outputs": [
    {
     "name": "stdout",
     "output_type": "stream",
     "text": [
      "True\n"
     ]
    }
   ],
   "source": [
    "print('My' in greeting)"
   ]
  },
  {
   "cell_type": "markdown",
   "metadata": {
    "pycharm": {
     "name": "#%% md\n"
    }
   },
   "source": [
    "### Методы разделения строки на элементы \n",
    "\n",
    "<p><code>.split(<b>разделитель</b>)</code> - разбирает строчку на элементы по указанному разделителю и возваращет список, состоящий из элементов строки. Если не указывать разделитель, по умолчанию, метод разобьет строчку по пробелам.</p>"
   ]
  },
  {
   "cell_type": "code",
   "execution_count": 8,
   "metadata": {
    "pycharm": {
     "name": "#%%\n"
    }
   },
   "outputs": [
    {
     "name": "stdout",
     "output_type": "stream",
     "text": [
      "['Привет,', 'Андрей!', 'Зачем', 'ты', 'плюнул', 'в', 'голубей?']\n"
     ]
    }
   ],
   "source": [
    "phrase2 = 'Привет, Андрей! Зачем ты плюнул в голубей?'\n",
    "\n",
    "print(phrase2.split())"
   ]
  },
  {
   "cell_type": "code",
   "execution_count": 9,
   "metadata": {
    "pycharm": {
     "name": "#%%\n"
    }
   },
   "outputs": [
    {
     "name": "stdout",
     "output_type": "stream",
     "text": [
      "['Audi', 'Mercedes', 'BMW', 'Honda', 'Aston Martin', 'BelAZ']\n"
     ]
    }
   ],
   "source": [
    "cars = 'Audi,Mercedes,BMW,Honda,Aston Martin,BelAZ'\n",
    "\n",
    "print(cars.split(','))"
   ]
  },
  {
   "cell_type": "markdown",
   "metadata": {
    "pycharm": {
     "name": "#%% md\n"
    }
   },
   "source": [
    "### Замена символов в строке \n",
    "\n",
    "<p>Вы не можете менять символы в строке через индексы. Но есть возможность заменить символ или последовательность символов, используя метод <code>.replace(<b>что_менять</b>, <b>на_что_менять</b>)</code>.</p>"
   ]
  },
  {
   "cell_type": "code",
   "execution_count": 10,
   "metadata": {
    "pycharm": {
     "name": "#%%\n"
    }
   },
   "outputs": [
    {
     "name": "stdout",
     "output_type": "stream",
     "text": [
      "М@м@ мыл@ р@му. Где м@м@?\n"
     ]
    }
   ],
   "source": [
    "phrase4 = 'Мама мыла раму. Где мама?'\n",
    "\n",
    "print(phrase4.replace('а', '@'))"
   ]
  },
  {
   "cell_type": "code",
   "execution_count": 11,
   "metadata": {
    "pycharm": {
     "name": "#%%\n"
    }
   },
   "outputs": [
    {
     "name": "stdout",
     "output_type": "stream",
     "text": [
      "I love Python\n"
     ]
    }
   ],
   "source": [
    "phrase5 = 'I love C++'\n",
    "\n",
    "print(phrase5.replace('C++', 'Python'))"
   ]
  },
  {
   "cell_type": "markdown",
   "metadata": {
    "pycharm": {
     "name": "#%% md\n"
    }
   },
   "source": [
    "### Сравнение строк\n",
    "\n",
    "<p>Строки можно сравнивать между собой, используя стандартные операторы сравнения: <code>&gt;</code>, <code>&lt;</code>, <code>==</code>, <code>!=</code>, <code>&lt;=</code>, <code>&gt;=</code>.</p>\n",
    "\n",
    "<p>Строки сравниваются не совсем так, как сравниваются числа.</p>"
   ]
  },
  {
   "cell_type": "code",
   "execution_count": 12,
   "metadata": {
    "pycharm": {
     "name": "#%%\n"
    }
   },
   "outputs": [
    {
     "name": "stdout",
     "output_type": "stream",
     "text": [
      "False\n"
     ]
    }
   ],
   "source": [
    "a = 'elephant'\n",
    "b = 'mouse'\n",
    "\n",
    "print(a > b)"
   ]
  },
  {
   "cell_type": "markdown",
   "metadata": {
    "pycharm": {
     "name": "#%% md\n"
    }
   },
   "source": [
    "<p>При сравнении строк во внимание берется <b>только</b> порядковый номер буквы в алфавите. Строки сравниваются посимвольно, пока не будет найдено различие между символами. В нашем случае различие появляется уже на первом символе. Так как порядковый номер буквы <code>e</code> в алфавите меньше, чем порядковый номер буквы <code>m</code>. Операция сравнения говорит о том, что слон меньше мыши.</p>"
   ]
  },
  {
   "cell_type": "code",
   "execution_count": 13,
   "metadata": {
    "pycharm": {
     "name": "#%%\n"
    }
   },
   "outputs": [
    {
     "name": "stdout",
     "output_type": "stream",
     "text": [
      "True\n"
     ]
    }
   ],
   "source": [
    "a = 'elephant'\n",
    "b = 'elephand'\n",
    "\n",
    "print(a > b)"
   ]
  },
  {
   "cell_type": "markdown",
   "metadata": {
    "pycharm": {
     "name": "#%% md\n"
    }
   },
   "source": [
    "<p>Чтобы определять \"порядковые номера\" букв используются числовые коды <a href=\"https://istarik.ru/blog/programmirovanie/53.html\">таблицы ASCII</a>. Это специальная таблица всех клавиатурных символов. Компьютер не способен распознавать буквы в том варианте, в котором их видите вы. Он видит буквы как числовые коды. Чтобы увидеть числовой код буквы, нужно использовать функцию <code>ord(<b>символ</b>)</code>.</p>"
   ]
  },
  {
   "cell_type": "code",
   "execution_count": 14,
   "metadata": {
    "pycharm": {
     "name": "#%%\n"
    }
   },
   "outputs": [
    {
     "name": "stdout",
     "output_type": "stream",
     "text": [
      "116\n",
      "100\n"
     ]
    }
   ],
   "source": [
    "print(ord('t'))\n",
    "print(ord('d'))"
   ]
  },
  {
   "cell_type": "markdown",
   "metadata": {
    "pycharm": {
     "name": "#%% md\n"
    }
   },
   "source": [
    "<p>Для обратного преобразования кода в символ, нужно использовать функцию <code>chr(<b>код</b>)</code>.</p>"
   ]
  },
  {
   "cell_type": "code",
   "execution_count": 15,
   "metadata": {
    "pycharm": {
     "name": "#%%\n"
    }
   },
   "outputs": [
    {
     "name": "stdout",
     "output_type": "stream",
     "text": [
      "t\n",
      "d\n"
     ]
    }
   ],
   "source": [
    "print(chr(116))\n",
    "print(chr(100))"
   ]
  },
  {
   "cell_type": "markdown",
   "metadata": {
    "pycharm": {
     "name": "#%% md\n"
    }
   },
   "source": [
    "### Циклы и строки:\n",
    "\n",
    "<p>Строка является последовательностью. У каждого символа в строке есть индекс (порядковый номер), который можно использовать для обращения. Строки могут быть перебраны через цикл:</p>"
   ]
  },
  {
   "cell_type": "code",
   "execution_count": 16,
   "metadata": {
    "pycharm": {
     "name": "#%%\n"
    }
   },
   "outputs": [
    {
     "name": "stdout",
     "output_type": "stream",
     "text": [
      "H\n",
      "e\n",
      "l\n",
      "l\n",
      "o\n",
      ",\n",
      " \n",
      "W\n",
      "o\n",
      "r\n",
      "l\n",
      "d\n",
      "!\n"
     ]
    }
   ],
   "source": [
    "phrase5 = 'Hello, World!'\n",
    "\n",
    "for i in range(len(phrase5)):  # количество повторений цикла равно длине строки \n",
    "    print(phrase5[i])  # в i находятся индексы, я достаю каждый символ через индекс"
   ]
  },
  {
   "cell_type": "markdown",
   "metadata": {
    "pycharm": {
     "name": "#%% md\n"
    }
   },
   "source": [
    "### Задача 2. \n",
    "\n",
    "<p>Необходимо написать программу, которая отфильтрует из строки цифры и выведет их единой коллекцией, а также посчитает количество цифр и выведет его.</p>"
   ]
  },
  {
   "cell_type": "code",
   "execution_count": null,
   "metadata": {
    "pycharm": {
     "name": "#%%\n"
    }
   },
   "outputs": [],
   "source": []
  }
 ],
 "metadata": {
  "kernelspec": {
   "display_name": "Python 3 (ipykernel)",
   "language": "python",
   "name": "python3"
  },
  "language_info": {
   "codemirror_mode": {
    "name": "ipython",
    "version": 3
   },
   "file_extension": ".py",
   "mimetype": "text/x-python",
   "name": "python",
   "nbconvert_exporter": "python",
   "pygments_lexer": "ipython3",
   "version": "3.10.4"
  }
 },
 "nbformat": 4,
 "nbformat_minor": 1
}