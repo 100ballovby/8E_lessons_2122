{
 "cells": [
  {
   "cell_type": "markdown",
   "metadata": {
    "collapsed": true,
    "pycharm": {
     "is_executing": true
    }
   },
   "source": [
    "## ДЗ (решение)\n",
    "\n",
    "<p>Написать программу, которая генерирует случайное целое число в диапазоне от <code>-100</code> до <code>100</code>. Если сгенерированное число находится в промежутке от 1 до 100, просто вывести его через <code>print()</code>;<br>\n",
    "Если <code>число = 0</code>, написать \"Не подходит\";<br>\n",
    "Если <code>число &lt; 0</code>, его нужно умножить на <code>-1</code> и вывести через print().</p>"
   ]
  },
  {
   "cell_type": "code",
   "execution_count": 1,
   "metadata": {},
   "outputs": [],
   "source": [
    "import random as r "
   ]
  },
  {
   "cell_type": "markdown",
   "metadata": {},
   "source": [
    "<p>Для начала я импортирую модуль <code>random</code>, чтобы иметь возможность генерировать случайные числа.</p>"
   ]
  },
  {
   "cell_type": "code",
   "execution_count": 2,
   "metadata": {},
   "outputs": [],
   "source": [
    "n = r.randint(-100, 100)  # случайное число от -100 до 100"
   ]
  },
  {
   "cell_type": "markdown",
   "metadata": {},
   "source": [
    "<p>Я напишу конструкцию условие в соответствии с теми, что написаны в задаче.</p>"
   ]
  },
  {
   "cell_type": "code",
   "execution_count": 3,
   "metadata": {},
   "outputs": [
    {
     "name": "stdout",
     "output_type": "stream",
     "text": [
      "23\n"
     ]
    }
   ],
   "source": [
    "if n in range(1, 101):  # Если число находится в промежутке от 1 до 100\n",
    "    print(n)\n",
    "elif n == 0:  # иначе если число равно 0\n",
    "    print('Не подходит!')\n",
    "else:  # иначе (когда число меньше 0)\n",
    "    print(n * -1)"
   ]
  },
  {
   "cell_type": "markdown",
   "metadata": {},
   "source": [
    "<p>Функция <code>range()</code> не включает точку <code>stop</code> в набор чисел. Поэтому я написал <code>range(1, 101)</code> - 1-100(включительно).</p>"
   ]
  }
 ],
 "metadata": {
  "kernelspec": {
   "display_name": "Python 3 (ipykernel)",
   "language": "python",
   "name": "python3"
  },
  "language_info": {
   "codemirror_mode": {
    "name": "ipython",
    "version": 3
   },
   "file_extension": ".py",
   "mimetype": "text/x-python",
   "name": "python",
   "nbconvert_exporter": "python",
   "pygments_lexer": "ipython3",
   "version": "3.7.7"
  }
 },
 "nbformat": 4,
 "nbformat_minor": 1
}
